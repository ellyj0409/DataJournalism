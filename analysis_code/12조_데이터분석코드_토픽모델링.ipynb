{
  "nbformat": 4,
  "nbformat_minor": 0,
  "metadata": {
    "colab": {
      "provenance": []
    },
    "kernelspec": {
      "name": "python3",
      "display_name": "Python 3"
    },
    "language_info": {
      "name": "python"
    }
  },
  "cells": [
    {
      "cell_type": "markdown",
      "source": [
        "## 트위터 토픽 모델링"
      ],
      "metadata": {
        "id": "sVK1tLzYZaev"
      }
    },
    {
      "cell_type": "code",
      "source": [
        "# 코랩 환경일 경우 실행\n",
        "'''\n",
        "from google.colab import drive\n",
        "drive.mount('/content/drive')\n",
        "'''"
      ],
      "metadata": {
        "colab": {
          "base_uri": "https://localhost:8080/"
        },
        "id": "O-oh1vjZzxde",
        "outputId": "f418a8a0-4634-495b-b838-147803163dd7"
      },
      "execution_count": null,
      "outputs": [
        {
          "output_type": "stream",
          "name": "stdout",
          "text": [
            "Mounted at /content/drive\n"
          ]
        }
      ]
    },
    {
      "cell_type": "code",
      "source": [
        "import pandas as pd\n",
        "from pandas import DataFrame  as df\n",
        "twitter = pd.read_csv(\"./data/twitter/트위터_환승연애.csv\")\n",
        "twitter"
      ],
      "metadata": {
        "colab": {
          "base_uri": "https://localhost:8080/",
          "height": 424
        },
        "id": "kW6j5OBU1Vac",
        "outputId": "8f00128f-a5d2-4f84-e074-f56b92115392"
      },
      "execution_count": null,
      "outputs": [
        {
          "output_type": "execute_result",
          "data": {
            "text/plain": [
              "                         date  \\\n",
              "0     2022-07-15 ~ 2022-07-16   \n",
              "1     2022-07-15 ~ 2022-07-16   \n",
              "2     2022-07-15 ~ 2022-07-16   \n",
              "3     2022-07-15 ~ 2022-07-16   \n",
              "4     2022-07-15 ~ 2022-07-16   \n",
              "...                       ...   \n",
              "5732  2022-11-10 ~ 2022-11-11   \n",
              "5733  2022-11-10 ~ 2022-11-11   \n",
              "5734  2022-11-10 ~ 2022-11-11   \n",
              "5735  2022-11-10 ~ 2022-11-11   \n",
              "5736  2022-11-10 ~ 2022-11-11   \n",
              "\n",
              "                                                  tweet  \n",
              "0         환승연애2 x커플 모르겠고 이현나연 케미뢰전드.. \\n심지어 저웅니들 둘이 룸메임  \n",
              "1                           환승연애 최이현 여친짤 재질 미쳤음.. 아름다우셔  \n",
              "2                                       환승연애 첫선택 #menow  \n",
              "3                                     환승연애2 최이현 조승우 썰ㅋㅋ  \n",
              "4                         환승연애2\\n\\n해가될까 \\n\\n#조승연 #WOODZ  \n",
              "...                                                 ...  \n",
              "5732                이진희도는 환승연애 나가면 안되겠다\\n빽도깅이 불 지를지도 모름  \n",
              "5733             @onl_youu _youu 그 환승연애 과몰입에 저도 좀 끼워주세엽  \n",
              "5734  (ENG)  \"해은 제일 잘 나가\" 환승연애 보다가 냅다 케이팝 2시간 동안 갈긴 ...  \n",
              "5735                              다음 댓카에서 환승연애 토론 열어봅시다  \n",
              "5736  https://posty.pe/1k34kr\\nhttps://posty.pe/iw8a...  \n",
              "\n",
              "[5737 rows x 2 columns]"
            ],
            "text/html": [
              "\n",
              "  <div id=\"df-5c630ce7-ef3c-4a22-bbc3-7be67cc0311f\">\n",
              "    <div class=\"colab-df-container\">\n",
              "      <div>\n",
              "<style scoped>\n",
              "    .dataframe tbody tr th:only-of-type {\n",
              "        vertical-align: middle;\n",
              "    }\n",
              "\n",
              "    .dataframe tbody tr th {\n",
              "        vertical-align: top;\n",
              "    }\n",
              "\n",
              "    .dataframe thead th {\n",
              "        text-align: right;\n",
              "    }\n",
              "</style>\n",
              "<table border=\"1\" class=\"dataframe\">\n",
              "  <thead>\n",
              "    <tr style=\"text-align: right;\">\n",
              "      <th></th>\n",
              "      <th>date</th>\n",
              "      <th>tweet</th>\n",
              "    </tr>\n",
              "  </thead>\n",
              "  <tbody>\n",
              "    <tr>\n",
              "      <th>0</th>\n",
              "      <td>2022-07-15 ~ 2022-07-16</td>\n",
              "      <td>환승연애2 x커플 모르겠고 이현나연 케미뢰전드.. \\n심지어 저웅니들 둘이 룸메임</td>\n",
              "    </tr>\n",
              "    <tr>\n",
              "      <th>1</th>\n",
              "      <td>2022-07-15 ~ 2022-07-16</td>\n",
              "      <td>환승연애 최이현 여친짤 재질 미쳤음.. 아름다우셔</td>\n",
              "    </tr>\n",
              "    <tr>\n",
              "      <th>2</th>\n",
              "      <td>2022-07-15 ~ 2022-07-16</td>\n",
              "      <td>환승연애 첫선택 #menow</td>\n",
              "    </tr>\n",
              "    <tr>\n",
              "      <th>3</th>\n",
              "      <td>2022-07-15 ~ 2022-07-16</td>\n",
              "      <td>환승연애2 최이현 조승우 썰ㅋㅋ</td>\n",
              "    </tr>\n",
              "    <tr>\n",
              "      <th>4</th>\n",
              "      <td>2022-07-15 ~ 2022-07-16</td>\n",
              "      <td>환승연애2\\n\\n해가될까 \\n\\n#조승연 #WOODZ</td>\n",
              "    </tr>\n",
              "    <tr>\n",
              "      <th>...</th>\n",
              "      <td>...</td>\n",
              "      <td>...</td>\n",
              "    </tr>\n",
              "    <tr>\n",
              "      <th>5732</th>\n",
              "      <td>2022-11-10 ~ 2022-11-11</td>\n",
              "      <td>이진희도는 환승연애 나가면 안되겠다\\n빽도깅이 불 지를지도 모름</td>\n",
              "    </tr>\n",
              "    <tr>\n",
              "      <th>5733</th>\n",
              "      <td>2022-11-10 ~ 2022-11-11</td>\n",
              "      <td>@onl_youu _youu 그 환승연애 과몰입에 저도 좀 끼워주세엽</td>\n",
              "    </tr>\n",
              "    <tr>\n",
              "      <th>5734</th>\n",
              "      <td>2022-11-10 ~ 2022-11-11</td>\n",
              "      <td>(ENG)  \"해은 제일 잘 나가\" 환승연애 보다가 냅다 케이팝 2시간 동안 갈긴 ...</td>\n",
              "    </tr>\n",
              "    <tr>\n",
              "      <th>5735</th>\n",
              "      <td>2022-11-10 ~ 2022-11-11</td>\n",
              "      <td>다음 댓카에서 환승연애 토론 열어봅시다</td>\n",
              "    </tr>\n",
              "    <tr>\n",
              "      <th>5736</th>\n",
              "      <td>2022-11-10 ~ 2022-11-11</td>\n",
              "      <td>https://posty.pe/1k34kr\\nhttps://posty.pe/iw8a...</td>\n",
              "    </tr>\n",
              "  </tbody>\n",
              "</table>\n",
              "<p>5737 rows × 2 columns</p>\n",
              "</div>\n",
              "      <button class=\"colab-df-convert\" onclick=\"convertToInteractive('df-5c630ce7-ef3c-4a22-bbc3-7be67cc0311f')\"\n",
              "              title=\"Convert this dataframe to an interactive table.\"\n",
              "              style=\"display:none;\">\n",
              "        \n",
              "  <svg xmlns=\"http://www.w3.org/2000/svg\" height=\"24px\"viewBox=\"0 0 24 24\"\n",
              "       width=\"24px\">\n",
              "    <path d=\"M0 0h24v24H0V0z\" fill=\"none\"/>\n",
              "    <path d=\"M18.56 5.44l.94 2.06.94-2.06 2.06-.94-2.06-.94-.94-2.06-.94 2.06-2.06.94zm-11 1L8.5 8.5l.94-2.06 2.06-.94-2.06-.94L8.5 2.5l-.94 2.06-2.06.94zm10 10l.94 2.06.94-2.06 2.06-.94-2.06-.94-.94-2.06-.94 2.06-2.06.94z\"/><path d=\"M17.41 7.96l-1.37-1.37c-.4-.4-.92-.59-1.43-.59-.52 0-1.04.2-1.43.59L10.3 9.45l-7.72 7.72c-.78.78-.78 2.05 0 2.83L4 21.41c.39.39.9.59 1.41.59.51 0 1.02-.2 1.41-.59l7.78-7.78 2.81-2.81c.8-.78.8-2.07 0-2.86zM5.41 20L4 18.59l7.72-7.72 1.47 1.35L5.41 20z\"/>\n",
              "  </svg>\n",
              "      </button>\n",
              "      \n",
              "  <style>\n",
              "    .colab-df-container {\n",
              "      display:flex;\n",
              "      flex-wrap:wrap;\n",
              "      gap: 12px;\n",
              "    }\n",
              "\n",
              "    .colab-df-convert {\n",
              "      background-color: #E8F0FE;\n",
              "      border: none;\n",
              "      border-radius: 50%;\n",
              "      cursor: pointer;\n",
              "      display: none;\n",
              "      fill: #1967D2;\n",
              "      height: 32px;\n",
              "      padding: 0 0 0 0;\n",
              "      width: 32px;\n",
              "    }\n",
              "\n",
              "    .colab-df-convert:hover {\n",
              "      background-color: #E2EBFA;\n",
              "      box-shadow: 0px 1px 2px rgba(60, 64, 67, 0.3), 0px 1px 3px 1px rgba(60, 64, 67, 0.15);\n",
              "      fill: #174EA6;\n",
              "    }\n",
              "\n",
              "    [theme=dark] .colab-df-convert {\n",
              "      background-color: #3B4455;\n",
              "      fill: #D2E3FC;\n",
              "    }\n",
              "\n",
              "    [theme=dark] .colab-df-convert:hover {\n",
              "      background-color: #434B5C;\n",
              "      box-shadow: 0px 1px 3px 1px rgba(0, 0, 0, 0.15);\n",
              "      filter: drop-shadow(0px 1px 2px rgba(0, 0, 0, 0.3));\n",
              "      fill: #FFFFFF;\n",
              "    }\n",
              "  </style>\n",
              "\n",
              "      <script>\n",
              "        const buttonEl =\n",
              "          document.querySelector('#df-5c630ce7-ef3c-4a22-bbc3-7be67cc0311f button.colab-df-convert');\n",
              "        buttonEl.style.display =\n",
              "          google.colab.kernel.accessAllowed ? 'block' : 'none';\n",
              "\n",
              "        async function convertToInteractive(key) {\n",
              "          const element = document.querySelector('#df-5c630ce7-ef3c-4a22-bbc3-7be67cc0311f');\n",
              "          const dataTable =\n",
              "            await google.colab.kernel.invokeFunction('convertToInteractive',\n",
              "                                                     [key], {});\n",
              "          if (!dataTable) return;\n",
              "\n",
              "          const docLinkHtml = 'Like what you see? Visit the ' +\n",
              "            '<a target=\"_blank\" href=https://colab.research.google.com/notebooks/data_table.ipynb>data table notebook</a>'\n",
              "            + ' to learn more about interactive tables.';\n",
              "          element.innerHTML = '';\n",
              "          dataTable['output_type'] = 'display_data';\n",
              "          await google.colab.output.renderOutput(dataTable, element);\n",
              "          const docLink = document.createElement('div');\n",
              "          docLink.innerHTML = docLinkHtml;\n",
              "          element.appendChild(docLink);\n",
              "        }\n",
              "      </script>\n",
              "    </div>\n",
              "  </div>\n",
              "  "
            ]
          },
          "metadata": {},
          "execution_count": 3
        }
      ]
    },
    {
      "cell_type": "code",
      "source": [
        "import numpy as np\n",
        "\n",
        "#데이터 프레임의 'tweet' 열의 값들을 str 형식으로 바꾸기\n",
        "twitter.tweet = twitter.tweet.astype(str)\n",
        "\n",
        "\n",
        "#데이터 프레임의 'tweet' 열의 값 중 keyword1이나 keyword 2가 포함된 행만 Data에 저장\n",
        "#clean_Data = Data.loc[Data['text'].str.contains('keyword1|keyword2')]\n",
        "\n",
        "#데이터 프레임의 'text' 열의 값 중 keyword1이나 keyword 2가 포함된 행은 삭제\n",
        "#clean_Data = Data[~Data['text'].str.contains('keyword1|keyword2')]\n",
        "\n",
        "clean_Data = twitter\n",
        "\n",
        "#text와 timestamp 열을 기준으로 중복된 데이터를 삭제, inplace : 데이터 프레임을 변경할지 선택(원본을 대체)\n",
        "clean_Data.drop_duplicates(subset=['tweet'], inplace=True)\n",
        "\n",
        "#한글이 아니면 빈 문자열로 바꾸기\n",
        "clean_Data['tweet'] = clean_Data['tweet'].str.replace('[^ㄱ-ㅎㅏ-ㅣ가-힣]',' ',regex=True)\n",
        "\n",
        "#빈 문자열 NAN 값으로 바꾸기\n",
        "clean_Data = clean_Data.replace({'': np.nan})\n",
        "clean_Data = clean_Data.replace(r'^\\s*$', None, regex=True)\n",
        "\n",
        "#NAN 이 있는 행은 삭제\n",
        "clean_Data.dropna(how='any', inplace=True)\n",
        "\n",
        "#인덱스 차곡차곡\n",
        "clean_Data = clean_Data.reset_index (drop = True)\n",
        "\n",
        "#데이터 프레임에 null 값이 있는지 확인\n",
        "print(clean_Data.isnull().values.any()) "
      ],
      "metadata": {
        "id": "yEbibh0l2zFA",
        "colab": {
          "base_uri": "https://localhost:8080/"
        },
        "outputId": "eb305183-63e6-4361-b00d-ef9bec71786a"
      },
      "execution_count": null,
      "outputs": [
        {
          "output_type": "stream",
          "name": "stdout",
          "text": [
            "False\n"
          ]
        }
      ]
    },
    {
      "cell_type": "code",
      "source": [
        "clean_Data"
      ],
      "metadata": {
        "colab": {
          "base_uri": "https://localhost:8080/",
          "height": 424
        },
        "id": "mGnqNQ4QGkX7",
        "outputId": "a6e93f24-33ad-4261-c82c-71d765dc5216"
      },
      "execution_count": null,
      "outputs": [
        {
          "output_type": "execute_result",
          "data": {
            "text/plain": [
              "                         date  \\\n",
              "0     2022-07-15 ~ 2022-07-16   \n",
              "1     2022-07-15 ~ 2022-07-16   \n",
              "2     2022-07-15 ~ 2022-07-16   \n",
              "3     2022-07-15 ~ 2022-07-16   \n",
              "4     2022-07-15 ~ 2022-07-16   \n",
              "...                       ...   \n",
              "4439  2022-11-10 ~ 2022-11-11   \n",
              "4440  2022-11-10 ~ 2022-11-11   \n",
              "4441  2022-11-10 ~ 2022-11-11   \n",
              "4442  2022-11-10 ~ 2022-11-11   \n",
              "4443  2022-11-10 ~ 2022-11-11   \n",
              "\n",
              "                                                  tweet  \n",
              "0          환승연애   커플 모르겠고 이현나연 케미뢰전드    심지어 저웅니들 둘이 룸메임  \n",
              "1                           환승연애 최이현 여친짤 재질 미쳤음   아름다우셔  \n",
              "2                                       환승연애 첫선택         \n",
              "3                                     환승연애  최이현 조승우 썰ㅋㅋ  \n",
              "4                             환승연애   해가될까    조승연         \n",
              "...                                                 ...  \n",
              "4439                 이진희도는 환승연애 나가면 안되겠다 빽도깅이 불 지를지도 모름  \n",
              "4440                             그 환승연애 과몰입에 저도 좀 끼워주세엽  \n",
              "4441          해은 제일 잘 나가  환승연애 보다가 냅다 케이팝  시간 동안 갈긴 ...  \n",
              "4442                              다음 댓카에서 환승연애 토론 열어봅시다  \n",
              "4443                                                ...  \n",
              "\n",
              "[4444 rows x 2 columns]"
            ],
            "text/html": [
              "\n",
              "  <div id=\"df-b4843ad1-9568-4891-898e-bef3a59369d3\">\n",
              "    <div class=\"colab-df-container\">\n",
              "      <div>\n",
              "<style scoped>\n",
              "    .dataframe tbody tr th:only-of-type {\n",
              "        vertical-align: middle;\n",
              "    }\n",
              "\n",
              "    .dataframe tbody tr th {\n",
              "        vertical-align: top;\n",
              "    }\n",
              "\n",
              "    .dataframe thead th {\n",
              "        text-align: right;\n",
              "    }\n",
              "</style>\n",
              "<table border=\"1\" class=\"dataframe\">\n",
              "  <thead>\n",
              "    <tr style=\"text-align: right;\">\n",
              "      <th></th>\n",
              "      <th>date</th>\n",
              "      <th>tweet</th>\n",
              "    </tr>\n",
              "  </thead>\n",
              "  <tbody>\n",
              "    <tr>\n",
              "      <th>0</th>\n",
              "      <td>2022-07-15 ~ 2022-07-16</td>\n",
              "      <td>환승연애   커플 모르겠고 이현나연 케미뢰전드    심지어 저웅니들 둘이 룸메임</td>\n",
              "    </tr>\n",
              "    <tr>\n",
              "      <th>1</th>\n",
              "      <td>2022-07-15 ~ 2022-07-16</td>\n",
              "      <td>환승연애 최이현 여친짤 재질 미쳤음   아름다우셔</td>\n",
              "    </tr>\n",
              "    <tr>\n",
              "      <th>2</th>\n",
              "      <td>2022-07-15 ~ 2022-07-16</td>\n",
              "      <td>환승연애 첫선택</td>\n",
              "    </tr>\n",
              "    <tr>\n",
              "      <th>3</th>\n",
              "      <td>2022-07-15 ~ 2022-07-16</td>\n",
              "      <td>환승연애  최이현 조승우 썰ㅋㅋ</td>\n",
              "    </tr>\n",
              "    <tr>\n",
              "      <th>4</th>\n",
              "      <td>2022-07-15 ~ 2022-07-16</td>\n",
              "      <td>환승연애   해가될까    조승연</td>\n",
              "    </tr>\n",
              "    <tr>\n",
              "      <th>...</th>\n",
              "      <td>...</td>\n",
              "      <td>...</td>\n",
              "    </tr>\n",
              "    <tr>\n",
              "      <th>4439</th>\n",
              "      <td>2022-11-10 ~ 2022-11-11</td>\n",
              "      <td>이진희도는 환승연애 나가면 안되겠다 빽도깅이 불 지를지도 모름</td>\n",
              "    </tr>\n",
              "    <tr>\n",
              "      <th>4440</th>\n",
              "      <td>2022-11-10 ~ 2022-11-11</td>\n",
              "      <td>그 환승연애 과몰입에 저도 좀 끼워주세엽</td>\n",
              "    </tr>\n",
              "    <tr>\n",
              "      <th>4441</th>\n",
              "      <td>2022-11-10 ~ 2022-11-11</td>\n",
              "      <td>해은 제일 잘 나가  환승연애 보다가 냅다 케이팝  시간 동안 갈긴 ...</td>\n",
              "    </tr>\n",
              "    <tr>\n",
              "      <th>4442</th>\n",
              "      <td>2022-11-10 ~ 2022-11-11</td>\n",
              "      <td>다음 댓카에서 환승연애 토론 열어봅시다</td>\n",
              "    </tr>\n",
              "    <tr>\n",
              "      <th>4443</th>\n",
              "      <td>2022-11-10 ~ 2022-11-11</td>\n",
              "      <td>...</td>\n",
              "    </tr>\n",
              "  </tbody>\n",
              "</table>\n",
              "<p>4444 rows × 2 columns</p>\n",
              "</div>\n",
              "      <button class=\"colab-df-convert\" onclick=\"convertToInteractive('df-b4843ad1-9568-4891-898e-bef3a59369d3')\"\n",
              "              title=\"Convert this dataframe to an interactive table.\"\n",
              "              style=\"display:none;\">\n",
              "        \n",
              "  <svg xmlns=\"http://www.w3.org/2000/svg\" height=\"24px\"viewBox=\"0 0 24 24\"\n",
              "       width=\"24px\">\n",
              "    <path d=\"M0 0h24v24H0V0z\" fill=\"none\"/>\n",
              "    <path d=\"M18.56 5.44l.94 2.06.94-2.06 2.06-.94-2.06-.94-.94-2.06-.94 2.06-2.06.94zm-11 1L8.5 8.5l.94-2.06 2.06-.94-2.06-.94L8.5 2.5l-.94 2.06-2.06.94zm10 10l.94 2.06.94-2.06 2.06-.94-2.06-.94-.94-2.06-.94 2.06-2.06.94z\"/><path d=\"M17.41 7.96l-1.37-1.37c-.4-.4-.92-.59-1.43-.59-.52 0-1.04.2-1.43.59L10.3 9.45l-7.72 7.72c-.78.78-.78 2.05 0 2.83L4 21.41c.39.39.9.59 1.41.59.51 0 1.02-.2 1.41-.59l7.78-7.78 2.81-2.81c.8-.78.8-2.07 0-2.86zM5.41 20L4 18.59l7.72-7.72 1.47 1.35L5.41 20z\"/>\n",
              "  </svg>\n",
              "      </button>\n",
              "      \n",
              "  <style>\n",
              "    .colab-df-container {\n",
              "      display:flex;\n",
              "      flex-wrap:wrap;\n",
              "      gap: 12px;\n",
              "    }\n",
              "\n",
              "    .colab-df-convert {\n",
              "      background-color: #E8F0FE;\n",
              "      border: none;\n",
              "      border-radius: 50%;\n",
              "      cursor: pointer;\n",
              "      display: none;\n",
              "      fill: #1967D2;\n",
              "      height: 32px;\n",
              "      padding: 0 0 0 0;\n",
              "      width: 32px;\n",
              "    }\n",
              "\n",
              "    .colab-df-convert:hover {\n",
              "      background-color: #E2EBFA;\n",
              "      box-shadow: 0px 1px 2px rgba(60, 64, 67, 0.3), 0px 1px 3px 1px rgba(60, 64, 67, 0.15);\n",
              "      fill: #174EA6;\n",
              "    }\n",
              "\n",
              "    [theme=dark] .colab-df-convert {\n",
              "      background-color: #3B4455;\n",
              "      fill: #D2E3FC;\n",
              "    }\n",
              "\n",
              "    [theme=dark] .colab-df-convert:hover {\n",
              "      background-color: #434B5C;\n",
              "      box-shadow: 0px 1px 3px 1px rgba(0, 0, 0, 0.15);\n",
              "      filter: drop-shadow(0px 1px 2px rgba(0, 0, 0, 0.3));\n",
              "      fill: #FFFFFF;\n",
              "    }\n",
              "  </style>\n",
              "\n",
              "      <script>\n",
              "        const buttonEl =\n",
              "          document.querySelector('#df-b4843ad1-9568-4891-898e-bef3a59369d3 button.colab-df-convert');\n",
              "        buttonEl.style.display =\n",
              "          google.colab.kernel.accessAllowed ? 'block' : 'none';\n",
              "\n",
              "        async function convertToInteractive(key) {\n",
              "          const element = document.querySelector('#df-b4843ad1-9568-4891-898e-bef3a59369d3');\n",
              "          const dataTable =\n",
              "            await google.colab.kernel.invokeFunction('convertToInteractive',\n",
              "                                                     [key], {});\n",
              "          if (!dataTable) return;\n",
              "\n",
              "          const docLinkHtml = 'Like what you see? Visit the ' +\n",
              "            '<a target=\"_blank\" href=https://colab.research.google.com/notebooks/data_table.ipynb>data table notebook</a>'\n",
              "            + ' to learn more about interactive tables.';\n",
              "          element.innerHTML = '';\n",
              "          dataTable['output_type'] = 'display_data';\n",
              "          await google.colab.output.renderOutput(dataTable, element);\n",
              "          const docLink = document.createElement('div');\n",
              "          docLink.innerHTML = docLinkHtml;\n",
              "          element.appendChild(docLink);\n",
              "        }\n",
              "      </script>\n",
              "    </div>\n",
              "  </div>\n",
              "  "
            ]
          },
          "metadata": {},
          "execution_count": 7
        }
      ]
    },
    {
      "cell_type": "code",
      "source": [
        "!pip install konlpy"
      ],
      "metadata": {
        "colab": {
          "base_uri": "https://localhost:8080/"
        },
        "id": "-uhstZBEG6Bk",
        "outputId": "1cd4496a-5b7f-4bc3-f27b-75b446aa332d"
      },
      "execution_count": null,
      "outputs": [
        {
          "output_type": "stream",
          "name": "stdout",
          "text": [
            "Looking in indexes: https://pypi.org/simple, https://us-python.pkg.dev/colab-wheels/public/simple/\n",
            "Collecting konlpy\n",
            "  Downloading konlpy-0.6.0-py2.py3-none-any.whl (19.4 MB)\n",
            "\u001b[K     |████████████████████████████████| 19.4 MB 353 kB/s \n",
            "\u001b[?25hRequirement already satisfied: numpy>=1.6 in /usr/local/lib/python3.8/dist-packages (from konlpy) (1.21.6)\n",
            "Requirement already satisfied: lxml>=4.1.0 in /usr/local/lib/python3.8/dist-packages (from konlpy) (4.9.1)\n",
            "Collecting JPype1>=0.7.0\n",
            "  Downloading JPype1-1.4.1-cp38-cp38-manylinux_2_12_x86_64.manylinux2010_x86_64.whl (465 kB)\n",
            "\u001b[K     |████████████████████████████████| 465 kB 47.5 MB/s \n",
            "\u001b[?25hRequirement already satisfied: packaging in /usr/local/lib/python3.8/dist-packages (from JPype1>=0.7.0->konlpy) (21.3)\n",
            "Requirement already satisfied: pyparsing!=3.0.5,>=2.0.2 in /usr/local/lib/python3.8/dist-packages (from packaging->JPype1>=0.7.0->konlpy) (3.0.9)\n",
            "Installing collected packages: JPype1, konlpy\n",
            "Successfully installed JPype1-1.4.1 konlpy-0.6.0\n"
          ]
        }
      ]
    },
    {
      "cell_type": "code",
      "source": [
        "from konlpy.tag import Komoran\n",
        "komoran = Komoran()\n",
        "\n",
        "komoran = Komoran(userdic='./data/단어 추가.txt')\n",
        "\n",
        "#텍스트 데이터를 리스트로 변환\n",
        "Data_list=clean_Data.tweet.values.tolist()\n",
        "\n",
        "#불용어 제거\n",
        "stopwords = ['거','것','은','는','이','가','때','문','뭐','수','말','씨','개','중','안','남','이랑', '그것', '이것', '화','번','건','애']\n",
        "\n",
        "\n",
        "# 명사만\n",
        "data_word=[]\n",
        "for i in range(len(Data_list)):\n",
        "    try:\n",
        "        tagged = komoran.pos(Data_list[i])\n",
        "        nouns = [s for s, t in tagged if t in ['NNP', 'NNG', 'NNB', 'NP'] and s not in stopwords]\n",
        "        data_word.append(nouns)\n",
        "    except Exception as e:\n",
        "        continue\n",
        "\n",
        "#트윗에서 명사만 추출해서 만든 리스트\n",
        "data_word"
      ],
      "metadata": {
        "id": "kpa-G1t_GswF"
      },
      "execution_count": null,
      "outputs": []
    },
    {
      "cell_type": "code",
      "source": [
        "# 필요한 패키지를 import\n",
        "\n",
        "from gensim.models.ldamodel import LdaModel\n",
        "from gensim.models.callbacks import CoherenceMetric\n",
        "from gensim import corpora\n",
        "from gensim.models.callbacks import PerplexityMetric\n",
        "\n",
        "import logging\n",
        "logging.basicConfig(format='%(asctime)s : %(levelname)s : %(message)s', level=logging.INFO)\n"
      ],
      "metadata": {
        "id": "o2J8um1QHPDs"
      },
      "execution_count": null,
      "outputs": []
    },
    {
      "cell_type": "code",
      "source": [
        "# 고유한 단어들의 사전 만들기\n",
        "dictionary = corpora.Dictionary(data_word)"
      ],
      "metadata": {
        "id": "cwr4NzDwI4X9"
      },
      "execution_count": null,
      "outputs": []
    },
    {
      "cell_type": "code",
      "source": [
        "# 빈도가 2 이상인 단어만 + 전체의 60% 이상 차지하는 단어는 필터링(너무 등장하지 않거나, 너무 자주 등장하는 단어 필터링)\n",
        "dictionary.filter_extremes(no_below=2, no_above=0.6)"
      ],
      "metadata": {
        "id": "oqFER1WwJBR-"
      },
      "execution_count": null,
      "outputs": []
    },
    {
      "cell_type": "code",
      "source": [
        "# 사전 속의 단어가 문장에서 몇 번 출현하는지 빈도를 세서 벡터화\n",
        "corpus = [dictionary.doc2bow(text) for text in data_word]"
      ],
      "metadata": {
        "id": "--oVcHdWJTPn"
      },
      "execution_count": null,
      "outputs": []
    },
    {
      "cell_type": "code",
      "source": [
        "num_topics = 2 #생성될 토픽의 개수\n",
        "chunksize = 2000 #한번의 트레이닝에 처리될 문서의 개수\n",
        "passes = 10 #전체 코퍼스 트레이닝 횟수\n",
        "iterations = 500 #문서 당 반복 횟수\n",
        "eval_every = None\n",
        "\n",
        "temp = dictionary[0]\n",
        "id2word = dictionary.id2token\n",
        "\n",
        "model = LdaModel(\n",
        "    corpus=corpus,\n",
        "    id2word=id2word,\n",
        "    chunksize=chunksize,\n",
        "    alpha='auto',\n",
        "    eta='auto',\n",
        "    iterations=iterations,\n",
        "    num_topics=num_topics,\n",
        "    passes=passes,\n",
        "    eval_every=eval_every\n",
        ")"
      ],
      "metadata": {
        "colab": {
          "base_uri": "https://localhost:8080/"
        },
        "id": "7ORlji17JcOy",
        "outputId": "248f9811-69f5-46bb-864a-4a3160e55caf"
      },
      "execution_count": null,
      "outputs": [
        {
          "output_type": "stream",
          "name": "stderr",
          "text": [
            "WARNING:gensim.models.ldamodel:updated prior not positive\n"
          ]
        }
      ]
    },
    {
      "cell_type": "code",
      "source": [
        "# 토픽이 어떻게 형성되었는지, Coherence는 적당하게 나왔는지 확인. 하나의 토픽 당 20개의 단어가 기본으로 보여짐\n",
        "\n",
        "top_topics = model.top_topics(corpus) #, num_words=20)\n",
        "\n",
        "# Average topic coherence is the sum of topic coherences of all topics, divided by the number of topics.\n",
        "avg_topic_coherence = sum([t[1] for t in top_topics]) / num_topics\n",
        "print('Average topic coherence: %.4f.' % avg_topic_coherence)\n",
        "\n",
        "from pprint import pprint\n",
        "pprint(top_topics)"
      ],
      "metadata": {
        "colab": {
          "base_uri": "https://localhost:8080/"
        },
        "id": "i6FR9RhNKEof",
        "outputId": "a0d938bc-bd97-426b-c5f4-4418866e0341"
      },
      "execution_count": null,
      "outputs": [
        {
          "output_type": "stream",
          "name": "stdout",
          "text": [
            "Average topic coherence: -4.5827.\n",
            "[([(0.018584838, '나'),\n",
            "   (0.011897345, '해은'),\n",
            "   (0.011116749, '내'),\n",
            "   (0.008210825, '얘기'),\n",
            "   (0.0078645265, '환연'),\n",
            "   (0.0072710207, '현규'),\n",
            "   (0.0067390525, '사람'),\n",
            "   (0.0066709984, '몰입'),\n",
            "   (0.006403783, '생각'),\n",
            "   (0.00637372, '연애'),\n",
            "   (0.006179588, '희두'),\n",
            "   (0.006154651, '티빙'),\n",
            "   (0.0059113903, '나연'),\n",
            "   (0.005856721, '커플'),\n",
            "   (0.0055825408, '분'),\n",
            "   (0.0055240546, '일'),\n",
            "   (0.005426747, '편'),\n",
            "   (0.005274886, '규민'),\n",
            "   (0.005121813, '친구'),\n",
            "   (0.004820846, '시간')],\n",
            "  -4.338603218647293),\n",
            " ([(0.020057779, '연애'),\n",
            "   (0.018392326, '나'),\n",
            "   (0.016542034, '사람'),\n",
            "   (0.016096931, '뱀뱀'),\n",
            "   (0.010063547, '내'),\n",
            "   (0.008008209, '환승'),\n",
            "   (0.007588242, '년'),\n",
            "   (0.0057974993, '데이트'),\n",
            "   (0.0057337405, '환연'),\n",
            "   (0.005629692, '듯'),\n",
            "   (0.005544878, '남자'),\n",
            "   (0.005205968, '프로그램'),\n",
            "   (0.005157912, '생각'),\n",
            "   (0.0051406585, '사실'),\n",
            "   (0.0048790257, '엑스'),\n",
            "   (0.0046371394, '질문'),\n",
            "   (0.004554153, '선택'),\n",
            "   (0.0044059367, '당신'),\n",
            "   (0.0043480285, '마음'),\n",
            "   (0.004115633, '해은')],\n",
            "  -4.826767077976488)]\n"
          ]
        }
      ]
    },
    {
      "cell_type": "code",
      "source": [
        "!pip install pyLDAvis"
      ],
      "metadata": {
        "id": "UYldgCOSKXhm"
      },
      "execution_count": null,
      "outputs": []
    },
    {
      "cell_type": "code",
      "source": [
        "# 시각화 패키지 import\n",
        "\n",
        "import pickle\n",
        "import pyLDAvis.gensim_models as gensimvis\n",
        "import pyLDAvis\n",
        "from gensim.models.coherencemodel import CoherenceModel\n",
        "import matplotlib.pyplot as plt"
      ],
      "metadata": {
        "colab": {
          "base_uri": "https://localhost:8080/"
        },
        "id": "mSlagnsSKScm",
        "outputId": "2a459c1f-9ffd-40cb-faf7-2c2c3df2f04b"
      },
      "execution_count": null,
      "outputs": [
        {
          "output_type": "stream",
          "name": "stderr",
          "text": [
            "/usr/local/lib/python3.8/dist-packages/past/types/oldstr.py:5: DeprecationWarning: Using or importing the ABCs from 'collections' instead of from 'collections.abc' is deprecated since Python 3.3, and in 3.10 it will stop working\n",
            "  from collections import Iterable\n"
          ]
        }
      ]
    },
    {
      "cell_type": "code",
      "source": [
        "# html 파일로 시각화 자료 만들어짐\n",
        "\n",
        "lda_visualization = gensimvis.prepare(model, corpus, dictionary, sort_topics=False)\n",
        "pyLDAvis.save_html(lda_visualization, './project_html/트위터토픽모델링.html')"
      ],
      "metadata": {
        "colab": {
          "base_uri": "https://localhost:8080/"
        },
        "id": "32RefB1FKch6",
        "outputId": "135f7c7c-4dbb-4980-cae6-6e19ffc90d46"
      },
      "execution_count": null,
      "outputs": [
        {
          "output_type": "stream",
          "name": "stderr",
          "text": [
            "/usr/local/lib/python3.8/dist-packages/pyLDAvis/_prepare.py:246: FutureWarning: In a future version of pandas all arguments of DataFrame.drop except for the argument 'labels' will be keyword-only\n",
            "  default_term_info = default_term_info.sort_values(\n"
          ]
        }
      ]
    }
  ]
}